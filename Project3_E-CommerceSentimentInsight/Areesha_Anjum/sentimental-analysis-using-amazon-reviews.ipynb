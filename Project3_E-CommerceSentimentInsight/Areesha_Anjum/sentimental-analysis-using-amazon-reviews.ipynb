{
 "cells": [
  {
   "cell_type": "code",
   "execution_count": 1,
   "id": "b514d034",
   "metadata": {
    "execution": {
     "iopub.execute_input": "2023-11-05T12:14:35.673739Z",
     "iopub.status.busy": "2023-11-05T12:14:35.673361Z",
     "iopub.status.idle": "2023-11-05T12:14:38.208341Z",
     "shell.execute_reply": "2023-11-05T12:14:38.207230Z"
    },
    "papermill": {
     "duration": 2.54386,
     "end_time": "2023-11-05T12:14:38.211146",
     "exception": false,
     "start_time": "2023-11-05T12:14:35.667286",
     "status": "completed"
    },
    "tags": []
   },
   "outputs": [],
   "source": [
    "import numpy as np\n",
    "import pandas as pd\n",
    "import seaborn as sns\n",
    "\n",
    "import bz2\n",
    "import re\n",
    "\n",
    "import nltk\n",
    "from nltk.corpus import stopwords\n",
    "\n",
    "from sklearn.feature_extraction.text import CountVectorizer\n",
    "\n",
    "from sklearn.linear_model import LogisticRegression\n",
    "\n",
    "from sklearn.metrics import accuracy_score"
   ]
  },
  {
   "cell_type": "markdown",
   "id": "54c6cf13",
   "metadata": {
    "papermill": {
     "duration": 0.003713,
     "end_time": "2023-11-05T12:14:38.221273",
     "exception": false,
     "start_time": "2023-11-05T12:14:38.217560",
     "status": "completed"
    },
    "tags": []
   },
   "source": [
    "# Dataset Description"
   ]
  },
  {
   "cell_type": "code",
   "execution_count": 2,
   "id": "19ebdf2f",
   "metadata": {
    "execution": {
     "iopub.execute_input": "2023-11-05T12:14:38.230894Z",
     "iopub.status.busy": "2023-11-05T12:14:38.230346Z",
     "iopub.status.idle": "2023-11-05T12:14:38.250325Z",
     "shell.execute_reply": "2023-11-05T12:14:38.249620Z"
    },
    "papermill": {
     "duration": 0.027071,
     "end_time": "2023-11-05T12:14:38.252257",
     "exception": false,
     "start_time": "2023-11-05T12:14:38.225186",
     "status": "completed"
    },
    "tags": []
   },
   "outputs": [],
   "source": [
    "train_file = bz2.BZ2File('../input/amazonreviews/train.ft.txt.bz2')\n",
    "test_file = bz2.BZ2File('../input/amazonreviews/test.ft.txt.bz2')"
   ]
  },
  {
   "cell_type": "code",
   "execution_count": 3,
   "id": "1b86195d",
   "metadata": {
    "execution": {
     "iopub.execute_input": "2023-11-05T12:14:38.262482Z",
     "iopub.status.busy": "2023-11-05T12:14:38.261797Z",
     "iopub.status.idle": "2023-11-05T12:14:38.266428Z",
     "shell.execute_reply": "2023-11-05T12:14:38.265846Z"
    },
    "papermill": {
     "duration": 0.011493,
     "end_time": "2023-11-05T12:14:38.267949",
     "exception": false,
     "start_time": "2023-11-05T12:14:38.256456",
     "status": "completed"
    },
    "tags": []
   },
   "outputs": [],
   "source": [
    "def load_extract(file):\n",
    "    texts, labels = [], [] \n",
    "    for line in file:\n",
    "        x = line.decode('utf-8')  # decode binary to string\n",
    "        labels.append(int(x[9]) - 1)  # extract labels\n",
    "        texts.append(x[10:].strip())  # extract texts\n",
    "    print('Done !')\n",
    "    return np.array(labels), texts"
   ]
  },
  {
   "cell_type": "code",
   "execution_count": 4,
   "id": "547d9377",
   "metadata": {
    "execution": {
     "iopub.execute_input": "2023-11-05T12:14:38.277160Z",
     "iopub.status.busy": "2023-11-05T12:14:38.276565Z",
     "iopub.status.idle": "2023-11-05T12:16:41.786546Z",
     "shell.execute_reply": "2023-11-05T12:16:41.785554Z"
    },
    "papermill": {
     "duration": 123.517512,
     "end_time": "2023-11-05T12:16:41.789181",
     "exception": false,
     "start_time": "2023-11-05T12:14:38.271669",
     "status": "completed"
    },
    "tags": []
   },
   "outputs": [
    {
     "name": "stdout",
     "output_type": "stream",
     "text": [
      "Done !\n",
      "Done !\n"
     ]
    }
   ],
   "source": [
    "train_labels, train_texts = load_extract(train_file)\n",
    "test_labels, test_texts = load_extract(test_file)"
   ]
  },
  {
   "cell_type": "code",
   "execution_count": 5,
   "id": "a2b653c9",
   "metadata": {
    "execution": {
     "iopub.execute_input": "2023-11-05T12:16:41.799113Z",
     "iopub.status.busy": "2023-11-05T12:16:41.798746Z",
     "iopub.status.idle": "2023-11-05T12:16:41.805570Z",
     "shell.execute_reply": "2023-11-05T12:16:41.804602Z"
    },
    "papermill": {
     "duration": 0.014161,
     "end_time": "2023-11-05T12:16:41.807548",
     "exception": false,
     "start_time": "2023-11-05T12:16:41.793387",
     "status": "completed"
    },
    "tags": []
   },
   "outputs": [
    {
     "data": {
      "text/plain": [
       "'Stuning even for the non-gamer: This sound track was beautiful! It paints the senery in your mind so well I would recomend it even to people who hate vid. game music! I have played the game Chrono Cross but out of all of the games I have ever played it has the best music! It backs away from crude keyboarding and takes a fresher step with grate guitars and soulful orchestras. It would impress anyone who cares to listen! ^_^'"
      ]
     },
     "execution_count": 5,
     "metadata": {},
     "output_type": "execute_result"
    }
   ],
   "source": [
    "train_texts[0]"
   ]
  },
  {
   "cell_type": "markdown",
   "id": "b09343bc",
   "metadata": {
    "papermill": {
     "duration": 0.004028,
     "end_time": "2023-11-05T12:16:41.816101",
     "exception": false,
     "start_time": "2023-11-05T12:16:41.812073",
     "status": "completed"
    },
    "tags": []
   },
   "source": [
    "# Data Cleaning"
   ]
  },
  {
   "cell_type": "code",
   "execution_count": 6,
   "id": "c5dc8218",
   "metadata": {
    "execution": {
     "iopub.execute_input": "2023-11-05T12:16:41.826692Z",
     "iopub.status.busy": "2023-11-05T12:16:41.826319Z",
     "iopub.status.idle": "2023-11-05T12:16:41.911321Z",
     "shell.execute_reply": "2023-11-05T12:16:41.910265Z"
    },
    "papermill": {
     "duration": 0.093223,
     "end_time": "2023-11-05T12:16:41.913749",
     "exception": false,
     "start_time": "2023-11-05T12:16:41.820526",
     "status": "completed"
    },
    "tags": []
   },
   "outputs": [],
   "source": [
    "def clean_texts(texts):\n",
    "    stwords = stopwords.words('english')\n",
    "    temp_texts = []\n",
    "    for i in range(len(texts)):\n",
    "        text = re.sub('\\d','0',texts[i]) #replace every digit with 0\n",
    "        if 'www.' in text or 'http:' in text or 'https:' in text or '.com' in text: # remove links and urls\n",
    "            text = re.sub(r\"([^ ]+(?<=\\.[a-z]{3}))\", \" \", text)\n",
    "        \n",
    "        text = re.sub('[^a-zA-Z]', ' ', text) #anything which is not a character replace with whitespace char\n",
    "        text = text.lower()\n",
    "        text = text.split()\n",
    "        text = [word for word in text if not word in stwords] # remove stopwords \n",
    "        text = ' '.join(text)\n",
    "        temp_texts.append(text)\n",
    "    print('--100%--Done !')\n",
    "    return temp_texts"
   ]
  },
  {
   "cell_type": "code",
   "execution_count": 7,
   "id": "8b887118",
   "metadata": {
    "execution": {
     "iopub.execute_input": "2023-11-05T12:16:41.924574Z",
     "iopub.status.busy": "2023-11-05T12:16:41.924258Z",
     "iopub.status.idle": "2023-11-05T12:26:09.571355Z",
     "shell.execute_reply": "2023-11-05T12:26:09.570309Z"
    },
    "papermill": {
     "duration": 567.654461,
     "end_time": "2023-11-05T12:26:09.573102",
     "exception": false,
     "start_time": "2023-11-05T12:16:41.918641",
     "status": "completed"
    },
    "tags": []
   },
   "outputs": [
    {
     "name": "stdout",
     "output_type": "stream",
     "text": [
      "Processing Training data\n",
      "--100%--Done !\n",
      "\n",
      "Processing Test data\n",
      "--100%--Done !\n"
     ]
    }
   ],
   "source": [
    "print('Processing Training data')\n",
    "train_texts = clean_texts(train_texts)\n",
    "print('\\nProcessing Test data')\n",
    "test_texts = clean_texts(test_texts)"
   ]
  },
  {
   "cell_type": "code",
   "execution_count": 8,
   "id": "e681fe71",
   "metadata": {
    "execution": {
     "iopub.execute_input": "2023-11-05T12:26:09.583655Z",
     "iopub.status.busy": "2023-11-05T12:26:09.583080Z",
     "iopub.status.idle": "2023-11-05T12:26:09.589214Z",
     "shell.execute_reply": "2023-11-05T12:26:09.588177Z"
    },
    "papermill": {
     "duration": 0.013968,
     "end_time": "2023-11-05T12:26:09.591313",
     "exception": false,
     "start_time": "2023-11-05T12:26:09.577345",
     "status": "completed"
    },
    "tags": []
   },
   "outputs": [
    {
     "data": {
      "text/plain": [
       "'stuning even non gamer sound track beautiful paints senery mind well would recomend even people hate vid game music played game chrono cross games ever played best music backs away crude keyboarding takes fresher step grate guitars soulful orchestras would impress anyone cares listen'"
      ]
     },
     "execution_count": 8,
     "metadata": {},
     "output_type": "execute_result"
    }
   ],
   "source": [
    "train_texts[0]"
   ]
  },
  {
   "cell_type": "code",
   "execution_count": 9,
   "id": "5113aa3d",
   "metadata": {
    "execution": {
     "iopub.execute_input": "2023-11-05T12:26:09.601814Z",
     "iopub.status.busy": "2023-11-05T12:26:09.601467Z",
     "iopub.status.idle": "2023-11-05T12:26:10.151849Z",
     "shell.execute_reply": "2023-11-05T12:26:10.151071Z"
    },
    "papermill": {
     "duration": 0.557907,
     "end_time": "2023-11-05T12:26:10.153957",
     "exception": false,
     "start_time": "2023-11-05T12:26:09.596050",
     "status": "completed"
    },
    "tags": []
   },
   "outputs": [
    {
     "data": {
      "text/plain": [
       "<Axes: ylabel='count'>"
      ]
     },
     "execution_count": 9,
     "metadata": {},
     "output_type": "execute_result"
    },
    {
     "data": {
      "image/png": "[encoded data removed]",
      "text/plain": [
       "<Figure size 640x480 with 1 Axes>"
      ]
     },
     "metadata": {},
     "output_type": "display_data"
    }
   ],
   "source": [
    "sns.countplot(x=train_labels)"
   ]
  },
  {
   "cell_type": "markdown",
   "id": "c9a7b054",
   "metadata": {
    "papermill": {
     "duration": 0.004301,
     "end_time": "2023-11-05T12:26:10.163119",
     "exception": false,
     "start_time": "2023-11-05T12:26:10.158818",
     "status": "completed"
    },
    "tags": []
   },
   "source": [
    "# Text Vectorization"
   ]
  },
  {
   "cell_type": "code",
   "execution_count": 10,
   "id": "d3819640",
   "metadata": {
    "execution": {
     "iopub.execute_input": "2023-11-05T12:26:10.175704Z",
     "iopub.status.busy": "2023-11-05T12:26:10.173847Z",
     "iopub.status.idle": "2023-11-05T12:29:55.448468Z",
     "shell.execute_reply": "2023-11-05T12:29:55.446951Z"
    },
    "papermill": {
     "duration": 225.283298,
     "end_time": "2023-11-05T12:29:55.451436",
     "exception": false,
     "start_time": "2023-11-05T12:26:10.168138",
     "status": "completed"
    },
    "tags": []
   },
   "outputs": [
    {
     "name": "stdout",
     "output_type": "stream",
     "text": [
      "Fitting data...\n",
      "fit complete !\n",
      "tranforming training set...\n",
      "tranforming test set...\n"
     ]
    }
   ],
   "source": [
    "print('Fitting data...')\n",
    "count_vect = CountVectorizer()\n",
    "count_vect.fit(train_texts) ; print('fit complete !')\n",
    "\n",
    "print('tranforming training set...')\n",
    "train_texts_vec = count_vect.transform(train_texts)\n",
    "\n",
    "print('tranforming test set...')\n",
    "test_texts_vec = count_vect.transform(test_texts)"
   ]
  },
  {
   "cell_type": "markdown",
   "id": "dc2f7acd",
   "metadata": {
    "papermill": {
     "duration": 0.00473,
     "end_time": "2023-11-05T12:29:55.461588",
     "exception": false,
     "start_time": "2023-11-05T12:29:55.456858",
     "status": "completed"
    },
    "tags": []
   },
   "source": [
    "# Model Building"
   ]
  },
  {
   "cell_type": "code",
   "execution_count": 11,
   "id": "b5f5a655",
   "metadata": {
    "execution": {
     "iopub.execute_input": "2023-11-05T12:29:55.473084Z",
     "iopub.status.busy": "2023-11-05T12:29:55.472764Z",
     "iopub.status.idle": "2023-11-05T12:32:38.479530Z",
     "shell.execute_reply": "2023-11-05T12:32:38.478496Z"
    },
    "papermill": {
     "duration": 163.021568,
     "end_time": "2023-11-05T12:32:38.487904",
     "exception": false,
     "start_time": "2023-11-05T12:29:55.466336",
     "status": "completed"
    },
    "tags": []
   },
   "outputs": [
    {
     "name": "stderr",
     "output_type": "stream",
     "text": [
      "/opt/conda/lib/python3.10/site-packages/sklearn/linear_model/_logistic.py:458: ConvergenceWarning: lbfgs failed to converge (status=1):\n",
      "STOP: TOTAL NO. of ITERATIONS REACHED LIMIT.\n",
      "\n",
      "Increase the number of iterations (max_iter) or scale the data as shown in:\n",
      "    https://scikit-learn.org/stable/modules/preprocessing.html\n",
      "Please also refer to the documentation for alternative solver options:\n",
      "    https://scikit-learn.org/stable/modules/linear_model.html#logistic-regression\n",
      "  n_iter_i = _check_optimize_result(\n"
     ]
    },
    {
     "data": {
      "text/html": [
       "<style>#sk-container-id-1 {color: black;background-color: white;}#sk-container-id-1 pre{padding: 0;}#sk-container-id-1 div.sk-toggleable {background-color: white;}#sk-container-id-1 label.sk-toggleable__label {cursor: pointer;display: block;width: 100%;margin-bottom: 0;padding: 0.3em;box-sizing: border-box;text-align: center;}#sk-container-id-1 label.sk-toggleable__label-arrow:before {content: \"▸\";float: left;margin-right: 0.25em;color: #696969;}#sk-container-id-1 label.sk-toggleable__label-arrow:hover:before {color: black;}#sk-container-id-1 div.sk-estimator:hover label.sk-toggleable__label-arrow:before {color: black;}#sk-container-id-1 div.sk-toggleable__content {max-height: 0;max-width: 0;overflow: hidden;text-align: left;background-color: #f0f8ff;}#sk-container-id-1 div.sk-toggleable__content pre {margin: 0.2em;color: black;border-radius: 0.25em;background-color: #f0f8ff;}#sk-container-id-1 input.sk-toggleable__control:checked~div.sk-toggleable__content {max-height: 200px;max-width: 100%;overflow: auto;}#sk-container-id-1 input.sk-toggleable__control:checked~label.sk-toggleable__label-arrow:before {content: \"▾\";}#sk-container-id-1 div.sk-estimator input.sk-toggleable__control:checked~label.sk-toggleable__label {background-color: #d4ebff;}#sk-container-id-1 div.sk-label input.sk-toggleable__control:checked~label.sk-toggleable__label {background-color: #d4ebff;}#sk-container-id-1 input.sk-hidden--visually {border: 0;clip: rect(1px 1px 1px 1px);clip: rect(1px, 1px, 1px, 1px);height: 1px;margin: -1px;overflow: hidden;padding: 0;position: absolute;width: 1px;}#sk-container-id-1 div.sk-estimator {font-family: monospace;background-color: #f0f8ff;border: 1px dotted black;border-radius: 0.25em;box-sizing: border-box;margin-bottom: 0.5em;}#sk-container-id-1 div.sk-estimator:hover {background-color: #d4ebff;}#sk-container-id-1 div.sk-parallel-item::after {content: \"\";width: 100%;border-bottom: 1px solid gray;flex-grow: 1;}#sk-container-id-1 div.sk-label:hover label.sk-toggleable__label {background-color: #d4ebff;}#sk-container-id-1 div.sk-serial::before {content: \"\";position: absolute;border-left: 1px solid gray;box-sizing: border-box;top: 0;bottom: 0;left: 50%;z-index: 0;}#sk-container-id-1 div.sk-serial {display: flex;flex-direction: column;align-items: center;background-color: white;padding-right: 0.2em;padding-left: 0.2em;position: relative;}#sk-container-id-1 div.sk-item {position: relative;z-index: 1;}#sk-container-id-1 div.sk-parallel {display: flex;align-items: stretch;justify-content: center;background-color: white;position: relative;}#sk-container-id-1 div.sk-item::before, #sk-container-id-1 div.sk-parallel-item::before {content: \"\";position: absolute;border-left: 1px solid gray;box-sizing: border-box;top: 0;bottom: 0;left: 50%;z-index: -1;}#sk-container-id-1 div.sk-parallel-item {display: flex;flex-direction: column;z-index: 1;position: relative;background-color: white;}#sk-container-id-1 div.sk-parallel-item:first-child::after {align-self: flex-end;width: 50%;}#sk-container-id-1 div.sk-parallel-item:last-child::after {align-self: flex-start;width: 50%;}#sk-container-id-1 div.sk-parallel-item:only-child::after {width: 0;}#sk-container-id-1 div.sk-dashed-wrapped {border: 1px dashed gray;margin: 0 0.4em 0.5em 0.4em;box-sizing: border-box;padding-bottom: 0.4em;background-color: white;}#sk-container-id-1 div.sk-label label {font-family: monospace;font-weight: bold;display: inline-block;line-height: 1.2em;}#sk-container-id-1 div.sk-label-container {text-align: center;}#sk-container-id-1 div.sk-container {/* jupyter's `normalize.less` sets `[hidden] { display: none; }` but bootstrap.min.css set `[hidden] { display: none !important; }` so we also need the `!important` here to be able to override the default hidden behavior on the sphinx rendered scikit-learn.org. See: https://github.com/scikit-learn/scikit-learn/issues/21755 */display: inline-block !important;position: relative;}#sk-container-id-1 div.sk-text-repr-fallback {display: none;}</style><div id=\"sk-container-id-1\" class=\"sk-top-container\"><div class=\"sk-text-repr-fallback\"><pre>LogisticRegression(max_iter=150, n_jobs=-1)</pre><b>In a Jupyter environment, please rerun this cell to show the HTML representation or trust the notebook. <br />On GitHub, the HTML representation is unable to render, please try loading this page with nbviewer.org.</b></div><div class=\"sk-container\" hidden><div class=\"sk-item\"><div class=\"sk-estimator sk-toggleable\"><input class=\"sk-toggleable__control sk-hidden--visually\" id=\"sk-estimator-id-1\" type=\"checkbox\" checked><label for=\"sk-estimator-id-1\" class=\"sk-toggleable__label sk-toggleable__label-arrow\">LogisticRegression</label><div class=\"sk-toggleable__content\"><pre>LogisticRegression(max_iter=150, n_jobs=-1)</pre></div></div></div></div></div>"
      ],
      "text/plain": [
       "LogisticRegression(max_iter=150, n_jobs=-1)"
      ]
     },
     "execution_count": 11,
     "metadata": {},
     "output_type": "execute_result"
    }
   ],
   "source": [
    "lr_model = LogisticRegression(n_jobs=-1, max_iter=150)\n",
    "lr_model.fit(train_texts_vec, train_labels)"
   ]
  },
  {
   "cell_type": "markdown",
   "id": "35ece69b",
   "metadata": {
    "papermill": {
     "duration": 0.004969,
     "end_time": "2023-11-05T12:32:38.498370",
     "exception": false,
     "start_time": "2023-11-05T12:32:38.493401",
     "status": "completed"
    },
    "tags": []
   },
   "source": [
    "# Model Evaluation"
   ]
  },
  {
   "cell_type": "code",
   "execution_count": 12,
   "id": "cdb3c473",
   "metadata": {
    "execution": {
     "iopub.execute_input": "2023-11-05T12:32:38.510416Z",
     "iopub.status.busy": "2023-11-05T12:32:38.510067Z",
     "iopub.status.idle": "2023-11-05T12:32:38.580907Z",
     "shell.execute_reply": "2023-11-05T12:32:38.579379Z"
    },
    "papermill": {
     "duration": 0.07995,
     "end_time": "2023-11-05T12:32:38.583439",
     "exception": false,
     "start_time": "2023-11-05T12:32:38.503489",
     "status": "completed"
    },
    "tags": []
   },
   "outputs": [],
   "source": [
    "pred_lr = lr_model.predict(test_texts_vec)"
   ]
  },
  {
   "cell_type": "code",
   "execution_count": 13,
   "id": "2c306fa6",
   "metadata": {
    "execution": {
     "iopub.execute_input": "2023-11-05T12:32:38.599104Z",
     "iopub.status.busy": "2023-11-05T12:32:38.598717Z",
     "iopub.status.idle": "2023-11-05T12:32:38.628446Z",
     "shell.execute_reply": "2023-11-05T12:32:38.626844Z"
    },
    "papermill": {
     "duration": 0.040269,
     "end_time": "2023-11-05T12:32:38.630875",
     "exception": false,
     "start_time": "2023-11-05T12:32:38.590606",
     "status": "completed"
    },
    "tags": []
   },
   "outputs": [
    {
     "name": "stdout",
     "output_type": "stream",
     "text": [
      "Accuracy: 0.900615\n"
     ]
    }
   ],
   "source": [
    "print('Accuracy:', accuracy_score(test_labels, pred_lr))"
   ]
  },
  {
   "cell_type": "code",
   "execution_count": 14,
   "id": "8ea77848",
   "metadata": {
    "execution": {
     "iopub.execute_input": "2023-11-05T12:32:38.643646Z",
     "iopub.status.busy": "2023-11-05T12:32:38.643287Z",
     "iopub.status.idle": "2023-11-05T12:32:38.649013Z",
     "shell.execute_reply": "2023-11-05T12:32:38.648370Z"
    },
    "papermill": {
     "duration": 0.015126,
     "end_time": "2023-11-05T12:32:38.651625",
     "exception": false,
     "start_time": "2023-11-05T12:32:38.636499",
     "status": "completed"
    },
    "tags": []
   },
   "outputs": [
    {
     "name": "stdout",
     "output_type": "stream",
     "text": [
      "big deal thing interesting album mia accent seriously beats singing layered tired clich vocals album anyone else would top final verdict bad music\n",
      "\n",
      "predicted label: 0\n",
      "actual label: 0\n"
     ]
    }
   ],
   "source": [
    "sample = test_texts[265]\n",
    "print(sample)\n",
    "\n",
    "sample_vec = count_vect.transform([sample])\n",
    "pred = lr_model.predict(sample_vec)\n",
    "print('\\npredicted label:',pred[0])\n",
    "print('actual label:', test_labels[100])"
   ]
  }
 ],
 "metadata": {
  "kernelspec": {
   "display_name": "Python 3",
   "language": "python",
   "name": "python3"
  },
  "language_info": {
   "codemirror_mode": {
    "name": "ipython",
    "version": 3
   },
   "file_extension": ".py",
   "mimetype": "text/x-python",
   "name": "python",
   "nbconvert_exporter": "python",
   "pygments_lexer": "ipython3",
   "version": "3.10.12"
  },
  "papermill": {
   "default_parameters": {},
   "duration": 1088.456769,
   "end_time": "2023-11-05T12:32:41.381677",
   "environment_variables": {},
   "exception": null,
   "input_path": "__notebook__.ipynb",
   "output_path": "__notebook__.ipynb",
   "parameters": {},
   "start_time": "2023-11-05T12:14:32.924908",
   "version": "2.4.0"
  }
 },
 "nbformat": 4,
 "nbformat_minor": 5
}
